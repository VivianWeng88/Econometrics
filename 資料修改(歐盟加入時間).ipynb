{
 "cells": [
  {
   "cell_type": "markdown",
   "metadata": {},
   "source": [
    "# 資料修改(歐盟加入時間)\n",
    "- 一開始關於歐盟的資料是以2016年為基準\n",
    "- 但有些國家是在2002~2016年間才加入歐盟的, 故需做調整"
   ]
  },
  {
   "cell_type": "code",
   "execution_count": 1,
   "metadata": {},
   "outputs": [],
   "source": [
    "import os \n",
    "import pandas as pd"
   ]
  },
  {
   "cell_type": "code",
   "execution_count": 2,
   "metadata": {},
   "outputs": [],
   "source": [
    "os.chdir(\"C:\\\\Users\\\\User\\\\Desktop\\\\Data\")"
   ]
  },
  {
   "cell_type": "markdown",
   "metadata": {},
   "source": [
    "### 1. 匯入需被修改的檔案\n",
    "- add_explanatory\n",
    "- data_2002-2016\n",
    "- data_all\n",
    "- GDP_CO2"
   ]
  },
  {
   "cell_type": "code",
   "execution_count": 3,
   "metadata": {},
   "outputs": [],
   "source": [
    "fold = 'processed_data\\\\'\n",
    "\n",
    "add_explanatory = pd.read_csv(fold + \"add_explanatory.csv\")\n",
    "data_2002_2016 = pd.read_csv(fold + \"data_2002-2016.csv\")\n",
    "data_all = pd.read_csv(fold + \"data_all.csv\")\n",
    "GDP_CO2 = pd.read_csv(fold + \"GDP_CO2.csv\")"
   ]
  },
  {
   "cell_type": "markdown",
   "metadata": {},
   "source": [
    "### 2. 修改名單與函式\n",
    "- 資料來源: https://zh.wikipedia.org/wiki/%E6%AC%A7%E6%B4%B2%E8%81%94%E7%9B%9F"
   ]
  },
  {
   "cell_type": "code",
   "execution_count": 4,
   "metadata": {},
   "outputs": [],
   "source": [
    "#匯入修正名單\n",
    "EU_join = pd.read_csv(\"dataset\\\\EU_2002-2016.csv\")"
   ]
  },
  {
   "cell_type": "code",
   "execution_count": 5,
   "metadata": {},
   "outputs": [],
   "source": [
    "#修改加入歐盟以前年份的資料\n",
    "def EU_revised (dataset):\n",
    "\n",
    "    dataset = dataset.iloc[:,1:] #移除第一欄位的索引值\n",
    "    \n",
    "    count = len(EU_join) #計算共有幾個國家需要被修改\n",
    "    \n",
    "    for i in range(count):\n",
    "        dataset.loc[(dataset.Entity == EU_join.Entity[i])&(dataset.Year < EU_join.Year[i]), 'EU'] = 0\n",
    "    \n",
    "    return dataset   "
   ]
  },
  {
   "cell_type": "markdown",
   "metadata": {},
   "source": [
    "### 3. 修改檔案後儲存\n",
    "- 儲存至新的資料夾revised"
   ]
  },
  {
   "cell_type": "code",
   "execution_count": 6,
   "metadata": {},
   "outputs": [],
   "source": [
    "#進行轉換\n",
    "new_add_explanatory = EU_revised(add_explanatory)\n",
    "new_data_2002_2016 = EU_revised(data_2002_2016)\n",
    "new_data_all = EU_revised(data_all)\n",
    "new_GDP_CO2 = EU_revised(GDP_CO2)"
   ]
  },
  {
   "cell_type": "code",
   "execution_count": 7,
   "metadata": {},
   "outputs": [],
   "source": [
    "#儲存修正後檔案\n",
    "fold = 'processed_data\\\\revised\\\\'\n",
    "new_add_explanatory.to_csv(fold + \"new_add_explanatory.csv\")\n",
    "new_data_2002_2016.to_csv(fold + \"new_data_2002-2016.csv\")\n",
    "new_data_all.to_csv(fold + \"new_data_all.csv\")\n",
    "new_GDP_CO2.to_csv(fold + \"new_GDP_CO2.csv\")"
   ]
  }
 ],
 "metadata": {
  "kernelspec": {
   "display_name": "Python 3",
   "language": "python",
   "name": "python3"
  },
  "language_info": {
   "codemirror_mode": {
    "name": "ipython",
    "version": 3
   },
   "file_extension": ".py",
   "mimetype": "text/x-python",
   "name": "python",
   "nbconvert_exporter": "python",
   "pygments_lexer": "ipython3",
   "version": "3.8.5"
  }
 },
 "nbformat": 4,
 "nbformat_minor": 4
}
